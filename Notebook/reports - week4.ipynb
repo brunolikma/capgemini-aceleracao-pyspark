{
 "cells": [
  {
   "cell_type": "code",
   "execution_count": 1,
   "id": "62577aad",
   "metadata": {},
   "outputs": [
    {
     "name": "stdout",
     "output_type": "stream",
     "text": [
      "Requirement already satisfied: pyspark in c:\\users\\brsantan\\anaconda3\\lib\\site-packages (3.2.1)\n",
      "Requirement already satisfied: py4j==0.10.9.3 in c:\\users\\brsantan\\anaconda3\\lib\\site-packages (from pyspark) (0.10.9.3)\n",
      "Requirement already satisfied: findspark in c:\\users\\brsantan\\anaconda3\\lib\\site-packages (2.0.1)\n"
     ]
    }
   ],
   "source": [
    "!pip install pyspark\n",
    "!pip install findspark"
   ]
  },
  {
   "cell_type": "code",
   "execution_count": 1,
   "id": "de50f666",
   "metadata": {},
   "outputs": [],
   "source": [
    "import findspark\n",
    "findspark.init()"
   ]
  },
  {
   "cell_type": "code",
   "execution_count": 2,
   "id": "06b3edb8",
   "metadata": {},
   "outputs": [],
   "source": [
    "import re\n",
    "from pyspark import SparkContext, SparkConf\n",
    "from pyspark.sql import SparkSession\n",
    "from pyspark.sql import functions as F\n",
    "from pyspark.sql.types import StructType, StructField, StringType, IntegerType, FloatType"
   ]
  },
  {
   "cell_type": "code",
   "execution_count": 3,
   "id": "e6cf6dde",
   "metadata": {},
   "outputs": [],
   "source": [
    "# Criar o contexto do spark\n",
    "sc = SparkContext()\n",
    "\n",
    "# Instancia o criador de sessao do spark\n",
    "spark = (SparkSession.builder\n",
    "                     .master(\"local[*]\")\n",
    "                     .appName(\"Aceleração PySpark - Semana 4 - Perguntas Negocio - Capgemini\"))"
   ]
  },
  {
   "cell_type": "code",
   "execution_count": 130,
   "id": "8eeb13c5",
   "metadata": {},
   "outputs": [],
   "source": [
    "path_airports = (\"../data/transformacao_airports_qa.parquet\")\n",
    "path_planes = (\"../data/transformacao_planes_qa.parquet\")\n",
    "path_flights = (\".../data/transformacao_flights_qa.parquet\")"
   ]
  },
  {
   "cell_type": "code",
   "execution_count": 131,
   "id": "5fc3e505",
   "metadata": {},
   "outputs": [],
   "source": [
    "\n",
    "df_airports_tr = (spark.getOrCreate().read\n",
    "                  .format(\"parquet\")\n",
    "                  .option(\"header\", \"true\")\n",
    "                  .load(path_airports))\n",
    "\n",
    "df_planes_tr = (spark.getOrCreate().read\n",
    "                  .format(\"parquet\")\n",
    "                  .option(\"header\", \"true\")\n",
    "                  .load(path_planes))\n",
    "\n",
    "df_flights_tr = (spark.getOrCreate().read\n",
    "                  .format(\"parquet\")\n",
    "                  .option(\"header\", \"true\")\n",
    "                  .load(path_flights))"
   ]
  },
  {
   "cell_type": "markdown",
   "id": "c52282cb",
   "metadata": {},
   "source": [
    "# <center> Join's dos DataSet's"
   ]
  },
  {
   "cell_type": "markdown",
   "id": "a7ea8719",
   "metadata": {},
   "source": [
    "# <center> Pergunta 1"
   ]
  },
  {
   "cell_type": "code",
   "execution_count": 132,
   "id": "5bc82aa2",
   "metadata": {},
   "outputs": [],
   "source": [
    "df_1 = df_airports_tr\n",
    "df_2 = df_airports_tr"
   ]
  },
  {
   "cell_type": "code",
   "execution_count": 133,
   "id": "b1f3d379",
   "metadata": {},
   "outputs": [],
   "source": [
    "df_1 = (df_1.withColumnRenamed('faa', 'faa_O')\n",
    ".withColumnRenamed('name', 'name_O')\n",
    ".withColumnRenamed('lat', 'lat_O')\n",
    ".withColumnRenamed('lon', 'lon_O')\n",
    ".withColumnRenamed('alt', 'alt_O')\n",
    ".withColumnRenamed('tz', 'tz_O')\n",
    ".withColumnRenamed('dst', 'dst_O')\n",
    ".withColumnRenamed('region', 'region_O')\n",
    ".withColumnRenamed('type', 'type_O')\n",
    ".withColumnRenamed('military', 'military_O')        \n",
    ".withColumnRenamed('administration', 'administration_O')\n",
    "       )"
   ]
  },
  {
   "cell_type": "code",
   "execution_count": 134,
   "id": "b5b8d7c5",
   "metadata": {},
   "outputs": [
    {
     "name": "stdout",
     "output_type": "stream",
     "text": [
      "+-----+--------------------+---------+-----------+-----+----+-----+-------------+------+----------+----------------+\n",
      "|faa_O|              name_O|    lat_O|      lon_O|alt_O|tz_O|dst_O|     region_O|type_O|military_O|administration_O|\n",
      "+-----+--------------------+---------+-----------+-----+----+-----+-------------+------+----------+----------------+\n",
      "|  04G|   Lansdowne Airport|41.130474|  -80.61958| 1044|  -5|    A|MAINLAND-EAST|    AP|     false|             NaN|\n",
      "|  06A|Moton Field Munic...| 32.46057|  -85.68003|  264|  -5|    A|MAINLAND-EAST|    AP|     false|               M|\n",
      "|  06C| Schaumburg Regional| 41.98934|  -88.10124|  801|  -6|    A|MAINLAND-EAST|   NaN|     false|               R|\n",
      "|  06N|     Randall Airport| 41.43191|  -74.39156|  523|  -5|    A|MAINLAND-EAST|    AP|     false|             NaN|\n",
      "|  09J|Jekyll Island Air...|31.074472|  -81.42778|   11|  -4|    A|MAINLAND-EAST|    AP|     false|             NaN|\n",
      "|  0A9|Elizabethton Muni...|36.371223| -82.173416| 1593|  -4|    A|MAINLAND-EAST|    AP|     false|               M|\n",
      "|  0G6|Williams County A...|41.467304| -84.506775|  730|  -5|    A|MAINLAND-EAST|    AP|     false|               R|\n",
      "|  0G7|Finger Lakes Regi...|42.883564| -76.781235|  492|  -5|    A|MAINLAND-EAST|    AP|     false|               R|\n",
      "|  0P2|Shoestring Aviati...|39.794823| -76.647194| 1000|  -5|    A|MAINLAND-EAST|   NaN|     false|             NaN|\n",
      "|  0S9|Jefferson County ...| 48.05381|-122.810646|  108|  -8|    A|MAINLAND-WEST|   NaN|     false|               I|\n",
      "|  0W3|Harford County Ai...|39.566837|   -76.2024|  409|  -5|    A|MAINLAND-EAST|    AP|     false|               R|\n",
      "|  10C|  Galt Field Airport| 42.40289| -88.375114|  875|  -6|    A|MAINLAND-EAST|    AP|     false|             NaN|\n",
      "|  17G|Port Bucyrus-Craw...|40.781555|  -82.97481| 1003|  -5|    A|MAINLAND-EAST|    AP|     false|               R|\n",
      "|  19A|Jackson County Ai...|34.175865|   -83.5616|  951|  -4|    A|MAINLAND-EAST|    AP|     false|               R|\n",
      "|  1A3|Martin Campbell F...|35.015804|  -84.34683| 1789|  -4|    A|MAINLAND-EAST|    AP|     false|             NaN|\n",
      "|  1B9| Mansfield Municipal|42.000134|  -71.19677|  122|  -5|    A|MAINLAND-EAST|   NaN|     false|               M|\n",
      "|  1C9|Frazier Lake Airpark|54.013332| -124.76833|  152|  -8|    A|       ALASKA|    AK|     false|             NaN|\n",
      "|  1CS|Clow Internationa...|41.695976| -88.129234|  670|  -6|    A|MAINLAND-EAST|    AP|     false|               I|\n",
      "|  1G3|  Kent State Airport| 41.15139|  -81.41511| 1134|  -4|    A|MAINLAND-EAST|    AP|     false|             NaN|\n",
      "|  1OH|     Fortman Airport|40.555325|  -84.38662|  885|  -5|    A|MAINLAND-EAST|    AP|     false|             NaN|\n",
      "+-----+--------------------+---------+-----------+-----+----+-----+-------------+------+----------+----------------+\n",
      "only showing top 20 rows\n",
      "\n"
     ]
    }
   ],
   "source": [
    "df_1.show()"
   ]
  },
  {
   "cell_type": "code",
   "execution_count": 135,
   "id": "cc0f55b8",
   "metadata": {},
   "outputs": [],
   "source": [
    "df_2 = (df_2.withColumnRenamed('faa', 'faa_D')\n",
    ".withColumnRenamed('name', 'name_D')\n",
    ".withColumnRenamed('lat', 'lat_D')\n",
    ".withColumnRenamed('lon', 'lon_D')\n",
    ".withColumnRenamed('alt', 'alt_D')\n",
    ".withColumnRenamed('tz', 'tz_D')\n",
    ".withColumnRenamed('dst', 'dst_D')\n",
    ".withColumnRenamed('region', 'region_D')\n",
    ".withColumnRenamed('type', 'type_D')\n",
    ".withColumnRenamed('military', 'military_D')        \n",
    ".withColumnRenamed('administration', 'administration_D')\n",
    "\n",
    ")"
   ]
  },
  {
   "cell_type": "code",
   "execution_count": 136,
   "id": "3f3d56ce",
   "metadata": {},
   "outputs": [
    {
     "name": "stdout",
     "output_type": "stream",
     "text": [
      "+-----+--------------------+---------+-----------+-----+----+-----+-------------+------+----------+----------------+\n",
      "|faa_D|              name_D|    lat_D|      lon_D|alt_D|tz_D|dst_D|     region_D|type_D|military_D|administration_D|\n",
      "+-----+--------------------+---------+-----------+-----+----+-----+-------------+------+----------+----------------+\n",
      "|  04G|   Lansdowne Airport|41.130474|  -80.61958| 1044|  -5|    A|MAINLAND-EAST|    AP|     false|             NaN|\n",
      "|  06A|Moton Field Munic...| 32.46057|  -85.68003|  264|  -5|    A|MAINLAND-EAST|    AP|     false|               M|\n",
      "|  06C| Schaumburg Regional| 41.98934|  -88.10124|  801|  -6|    A|MAINLAND-EAST|   NaN|     false|               R|\n",
      "|  06N|     Randall Airport| 41.43191|  -74.39156|  523|  -5|    A|MAINLAND-EAST|    AP|     false|             NaN|\n",
      "|  09J|Jekyll Island Air...|31.074472|  -81.42778|   11|  -4|    A|MAINLAND-EAST|    AP|     false|             NaN|\n",
      "|  0A9|Elizabethton Muni...|36.371223| -82.173416| 1593|  -4|    A|MAINLAND-EAST|    AP|     false|               M|\n",
      "|  0G6|Williams County A...|41.467304| -84.506775|  730|  -5|    A|MAINLAND-EAST|    AP|     false|               R|\n",
      "|  0G7|Finger Lakes Regi...|42.883564| -76.781235|  492|  -5|    A|MAINLAND-EAST|    AP|     false|               R|\n",
      "|  0P2|Shoestring Aviati...|39.794823| -76.647194| 1000|  -5|    A|MAINLAND-EAST|   NaN|     false|             NaN|\n",
      "|  0S9|Jefferson County ...| 48.05381|-122.810646|  108|  -8|    A|MAINLAND-WEST|   NaN|     false|               I|\n",
      "|  0W3|Harford County Ai...|39.566837|   -76.2024|  409|  -5|    A|MAINLAND-EAST|    AP|     false|               R|\n",
      "|  10C|  Galt Field Airport| 42.40289| -88.375114|  875|  -6|    A|MAINLAND-EAST|    AP|     false|             NaN|\n",
      "|  17G|Port Bucyrus-Craw...|40.781555|  -82.97481| 1003|  -5|    A|MAINLAND-EAST|    AP|     false|               R|\n",
      "|  19A|Jackson County Ai...|34.175865|   -83.5616|  951|  -4|    A|MAINLAND-EAST|    AP|     false|               R|\n",
      "|  1A3|Martin Campbell F...|35.015804|  -84.34683| 1789|  -4|    A|MAINLAND-EAST|    AP|     false|             NaN|\n",
      "|  1B9| Mansfield Municipal|42.000134|  -71.19677|  122|  -5|    A|MAINLAND-EAST|   NaN|     false|               M|\n",
      "|  1C9|Frazier Lake Airpark|54.013332| -124.76833|  152|  -8|    A|       ALASKA|    AK|     false|             NaN|\n",
      "|  1CS|Clow Internationa...|41.695976| -88.129234|  670|  -6|    A|MAINLAND-EAST|    AP|     false|               I|\n",
      "|  1G3|  Kent State Airport| 41.15139|  -81.41511| 1134|  -4|    A|MAINLAND-EAST|    AP|     false|             NaN|\n",
      "|  1OH|     Fortman Airport|40.555325|  -84.38662|  885|  -5|    A|MAINLAND-EAST|    AP|     false|             NaN|\n",
      "+-----+--------------------+---------+-----------+-----+----+-----+-------------+------+----------+----------------+\n",
      "only showing top 20 rows\n",
      "\n"
     ]
    }
   ],
   "source": [
    "df_2.show()"
   ]
  },
  {
   "cell_type": "code",
   "execution_count": 137,
   "id": "cfa11604",
   "metadata": {},
   "outputs": [],
   "source": [
    "df_planes_tr = (df_planes_tr.withColumnRenamed('tailnum', 'tailnum_P'))"
   ]
  },
  {
   "cell_type": "code",
   "execution_count": 138,
   "id": "53bbf5a3",
   "metadata": {},
   "outputs": [
    {
     "name": "stdout",
     "output_type": "stream",
     "text": [
      "+---------+----+---------+------------+--------+-------+-----+-----+---------+--------+----+-----------+\n",
      "|tailnum_P|year|     type|manufacturer|   model|engines|seats|speed|   engine|tailchar| age|engine_type|\n",
      "+---------+----+---------+------------+--------+-------+-----+-----+---------+--------+----+-----------+\n",
      "|   N102UW|1998|MULTI_ENG|      AIRBUS|A320-214|      2|  182|  506|Turbo-fan|      UW|24.0|        FAN|\n",
      "|   N103US|1999|MULTI_ENG|      AIRBUS|A320-214|      2|  182|  506|Turbo-fan|      US|23.0|        FAN|\n",
      "|   N104UW|1999|MULTI_ENG|      AIRBUS|A320-214|      2|  182|  506|Turbo-fan|      UW|23.0|        FAN|\n",
      "|   N105UW|1999|MULTI_ENG|      AIRBUS|A320-214|      2|  182|  506|Turbo-fan|      UW|23.0|        FAN|\n",
      "|   N107US|1999|MULTI_ENG|      AIRBUS|A320-214|      2|  182|  506|Turbo-fan|      US|23.0|        FAN|\n",
      "|   N108UW|1999|MULTI_ENG|      AIRBUS|A320-214|      2|  182|  506|Turbo-fan|      UW|23.0|        FAN|\n",
      "|   N109UW|1999|MULTI_ENG|      AIRBUS|A320-214|      2|  182|  506|Turbo-fan|      UW|23.0|        FAN|\n",
      "|   N110UW|1999|MULTI_ENG|      AIRBUS|A320-214|      2|  182|  506|Turbo-fan|      UW|23.0|        FAN|\n",
      "|   N111US|1999|MULTI_ENG|      AIRBUS|A320-214|      2|  182|  506|Turbo-fan|      US|23.0|        FAN|\n",
      "|   N11206|2000|MULTI_ENG|      BOEING| 737-824|      2|  149|  414|Turbo-fan|        |22.0|        FAN|\n",
      "|   N112US|1999|MULTI_ENG|      AIRBUS|A320-214|      2|  182|  506|Turbo-fan|      US|23.0|        FAN|\n",
      "|   N113UW|1999|MULTI_ENG|      AIRBUS|A320-214|      2|  182|  506|Turbo-fan|      UW|23.0|        FAN|\n",
      "|   N114UW|1999|MULTI_ENG|      AIRBUS|A320-214|      2|  182|  506|Turbo-fan|      UW|23.0|        FAN|\n",
      "|   N117UW|2000|MULTI_ENG|      AIRBUS|A320-214|      2|  182|  506|Turbo-fan|      UW|22.0|        FAN|\n",
      "|   N118US|2000|MULTI_ENG|      AIRBUS|A320-214|      2|  182|  506|Turbo-fan|      US|22.0|        FAN|\n",
      "|   N119US|2000|MULTI_ENG|      AIRBUS|A320-214|      2|  182|  506|Turbo-fan|      US|22.0|        FAN|\n",
      "|   N1200K|1998|MULTI_ENG|      BOEING| 767-332|      2|  330|  917|Turbo-fan|       K|24.0|        FAN|\n",
      "|   N1201P|1998|MULTI_ENG|      BOEING| 767-332|      2|  330|  917|Turbo-fan|       P|24.0|        FAN|\n",
      "|   N12114|1995|MULTI_ENG|      BOEING| 757-224|      2|  178|  495|Turbo-jet|        |27.0|        JET|\n",
      "|   N121DE|1987|MULTI_ENG|      BOEING| 767-332|      2|  330|  917|Turbo-fan|      DE|35.0|        FAN|\n",
      "+---------+----+---------+------------+--------+-------+-----+-----+---------+--------+----+-----------+\n",
      "only showing top 20 rows\n",
      "\n"
     ]
    }
   ],
   "source": [
    "df_planes_tr.show()"
   ]
  },
  {
   "cell_type": "code",
   "execution_count": 139,
   "id": "89b3a52a",
   "metadata": {},
   "outputs": [],
   "source": [
    "df = (df_flights_tr.join(df_1,\n",
    "(df_flights_tr.origin == df_1.faa_O)\n",
    ",\"left\")\n",
    ")\n"
   ]
  },
  {
   "cell_type": "code",
   "execution_count": 140,
   "id": "d9f4bfdd",
   "metadata": {},
   "outputs": [],
   "source": [
    "df = (df.join(df_2,\n",
    "(df.dest == df_2.faa_D)\n",
    ",\"left\")\n",
    ")\n"
   ]
  },
  {
   "cell_type": "code",
   "execution_count": 141,
   "id": "542d6737",
   "metadata": {},
   "outputs": [],
   "source": [
    "df = (df.join(df_planes_tr,\n",
    "(df.tailnum == df_planes_tr.tailnum_P)\n",
    ",\"left\")\n",
    ")\n"
   ]
  },
  {
   "cell_type": "code",
   "execution_count": 142,
   "id": "209be1dc",
   "metadata": {},
   "outputs": [
    {
     "data": {
      "text/plain": [
       "51"
      ]
     },
     "execution_count": 142,
     "metadata": {},
     "output_type": "execute_result"
    }
   ],
   "source": [
    "len(df.columns)"
   ]
  },
  {
   "cell_type": "code",
   "execution_count": 143,
   "id": "66263596",
   "metadata": {},
   "outputs": [
    {
     "name": "stdout",
     "output_type": "stream",
     "text": [
      "root\n",
      " |-- dep_time: string (nullable = true)\n",
      " |-- arr_time: string (nullable = true)\n",
      " |-- dep_delay: integer (nullable = true)\n",
      " |-- arr_delay: integer (nullable = true)\n",
      " |-- carrier: string (nullable = true)\n",
      " |-- tailnum: string (nullable = true)\n",
      " |-- flight: string (nullable = true)\n",
      " |-- origin: string (nullable = true)\n",
      " |-- dest: string (nullable = true)\n",
      " |-- air_time: integer (nullable = true)\n",
      " |-- distance: integer (nullable = true)\n",
      " |-- dep_datetime: timestamp (nullable = true)\n",
      " |-- air_time_projected: integer (nullable = true)\n",
      " |-- air_time_expected: integer (nullable = true)\n",
      " |-- haul_duration: string (nullable = true)\n",
      " |-- dep_season: string (nullable = true)\n",
      " |-- dep_delay_category: string (nullable = true)\n",
      " |-- faa_O: string (nullable = true)\n",
      " |-- name_O: string (nullable = true)\n",
      " |-- lat_O: float (nullable = true)\n",
      " |-- lon_O: float (nullable = true)\n",
      " |-- alt_O: integer (nullable = true)\n",
      " |-- tz_O: integer (nullable = true)\n",
      " |-- dst_O: string (nullable = true)\n",
      " |-- region_O: string (nullable = true)\n",
      " |-- type_O: string (nullable = true)\n",
      " |-- military_O: boolean (nullable = true)\n",
      " |-- administration_O: string (nullable = true)\n",
      " |-- faa_D: string (nullable = true)\n",
      " |-- name_D: string (nullable = true)\n",
      " |-- lat_D: float (nullable = true)\n",
      " |-- lon_D: float (nullable = true)\n",
      " |-- alt_D: integer (nullable = true)\n",
      " |-- tz_D: integer (nullable = true)\n",
      " |-- dst_D: string (nullable = true)\n",
      " |-- region_D: string (nullable = true)\n",
      " |-- type_D: string (nullable = true)\n",
      " |-- military_D: boolean (nullable = true)\n",
      " |-- administration_D: string (nullable = true)\n",
      " |-- tailnum_P: string (nullable = true)\n",
      " |-- year: string (nullable = true)\n",
      " |-- type: string (nullable = true)\n",
      " |-- manufacturer: string (nullable = true)\n",
      " |-- model: string (nullable = true)\n",
      " |-- engines: integer (nullable = true)\n",
      " |-- seats: integer (nullable = true)\n",
      " |-- speed: decimal(13,0) (nullable = true)\n",
      " |-- engine: string (nullable = true)\n",
      " |-- tailchar: string (nullable = true)\n",
      " |-- age: double (nullable = true)\n",
      " |-- engine_type: string (nullable = true)\n",
      "\n"
     ]
    }
   ],
   "source": [
    "df.printSchema()"
   ]
  },
  {
   "cell_type": "markdown",
   "id": "dd5d2a7e",
   "metadata": {},
   "source": [
    "# <center> Pergunta 2"
   ]
  },
  {
   "cell_type": "code",
   "execution_count": 184,
   "id": "298f030a",
   "metadata": {},
   "outputs": [
    {
     "ename": "TypeError",
     "evalue": "distinct() takes 1 positional argument but 2 were given",
     "output_type": "error",
     "traceback": [
      "\u001b[1;31m---------------------------------------------------------------------------\u001b[0m",
      "\u001b[1;31mTypeError\u001b[0m                                 Traceback (most recent call last)",
      "\u001b[1;32m~\\AppData\\Local\\Temp/ipykernel_23528/396769017.py\u001b[0m in \u001b[0;36m<module>\u001b[1;34m\u001b[0m\n\u001b[1;32m----> 1\u001b[1;33m \u001b[0mdf\u001b[0m\u001b[1;33m.\u001b[0m\u001b[0mselect\u001b[0m\u001b[1;33m(\u001b[0m\u001b[1;34m'name_D'\u001b[0m\u001b[1;33m)\u001b[0m\u001b[1;33m.\u001b[0m\u001b[0mdistinct\u001b[0m\u001b[1;33m(\u001b[0m\u001b[1;34m'name_D'\u001b[0m\u001b[1;33m)\u001b[0m\u001b[1;33m.\u001b[0m\u001b[0mshow\u001b[0m\u001b[1;33m(\u001b[0m\u001b[1;36m100\u001b[0m\u001b[1;33m)\u001b[0m\u001b[1;33m\u001b[0m\u001b[1;33m\u001b[0m\u001b[0m\n\u001b[0m",
      "\u001b[1;31mTypeError\u001b[0m: distinct() takes 1 positional argument but 2 were given"
     ]
    }
   ],
   "source": [
    "df.select('name_D').distinct('name_D').show(100)"
   ]
  },
  {
   "cell_type": "code",
   "execution_count": 153,
   "id": "5d670bf7",
   "metadata": {
    "scrolled": true
   },
   "outputs": [
    {
     "name": "stdout",
     "output_type": "stream",
     "text": [
      "+-------------+-----+\n",
      "|     region_D|count|\n",
      "+-------------+-----+\n",
      "|       ALASKA|    9|\n",
      "|MAINLAND-EAST|   24|\n",
      "|MAINLAND-WEST|   36|\n",
      "+-------------+-----+\n",
      "\n"
     ]
    }
   ],
   "source": [
    "df.groupBy('region_D').agg(F.count_distinct('name_D').alias('count')).show()"
   ]
  },
  {
   "cell_type": "markdown",
   "id": "707c3ca8",
   "metadata": {},
   "source": [
    "# <center> Pergunta 3"
   ]
  },
  {
   "cell_type": "code",
   "execution_count": 364,
   "id": "fd19d6e2",
   "metadata": {},
   "outputs": [
    {
     "name": "stdout",
     "output_type": "stream",
     "text": [
      "+-----+\n",
      "|alt_O|\n",
      "+-----+\n",
      "|  433|\n",
      "|  433|\n",
      "|  433|\n",
      "|  433|\n",
      "|  433|\n",
      "|  433|\n",
      "|  433|\n",
      "|  433|\n",
      "|  433|\n",
      "|  433|\n",
      "|  433|\n",
      "|  433|\n",
      "|  433|\n",
      "|  433|\n",
      "|  433|\n",
      "|  433|\n",
      "|  433|\n",
      "|  433|\n",
      "|  433|\n",
      "|  433|\n",
      "+-----+\n",
      "only showing top 20 rows\n",
      "\n",
      "+-----+\n",
      "|alt_D|\n",
      "+-----+\n",
      "| 6602|\n",
      "| 6602|\n",
      "| 6602|\n",
      "| 6602|\n",
      "| 6187|\n",
      "| 6187|\n",
      "| 6187|\n",
      "| 6187|\n",
      "| 6187|\n",
      "| 6187|\n",
      "| 6187|\n",
      "| 6187|\n",
      "| 6187|\n",
      "| 6187|\n",
      "| 6187|\n",
      "| 6187|\n",
      "| 6187|\n",
      "| 6187|\n",
      "| 6187|\n",
      "| 6187|\n",
      "+-----+\n",
      "only showing top 20 rows\n",
      "\n"
     ]
    }
   ],
   "source": [
    "df.select(\"alt_O\").orderBy('alt_O', ascending=False).show()\n",
    "df.select(\"alt_D\").orderBy('alt_D', ascending=False).show()"
   ]
  },
  {
   "cell_type": "code",
   "execution_count": 370,
   "id": "d96a4ad8",
   "metadata": {},
   "outputs": [
    {
     "name": "stdout",
     "output_type": "stream",
     "text": [
      "+----+\n",
      "| max|\n",
      "+----+\n",
      "|6169|\n",
      "+----+\n",
      "\n"
     ]
    }
   ],
   "source": [
    "df.agg(F.max(F.abs(F.col(\"alt_O\") - F.col(\"alt_D\"))).alias(\"max\")).show()"
   ]
  },
  {
   "cell_type": "markdown",
   "id": "c01b4652",
   "metadata": {},
   "source": [
    "# <center> Pergunta 4"
   ]
  },
  {
   "cell_type": "code",
   "execution_count": 271,
   "id": "64977fee",
   "metadata": {},
   "outputs": [
    {
     "name": "stdout",
     "output_type": "stream",
     "text": [
      "+------------+\n",
      "|Atraso medio|\n",
      "+------------+\n",
      "|          35|\n",
      "+------------+\n",
      "\n"
     ]
    }
   ],
   "source": [
    "(df.where((F.col('dep_delay') > 0) | (F.col('arr_delay') > 0))\n",
    " .agg(F.ceil(F.avg(F.col('dep_delay') + F.col('arr_delay'))).alias('Atraso medio')).show())"
   ]
  },
  {
   "cell_type": "markdown",
   "id": "9f60a55a",
   "metadata": {},
   "source": [
    "# <center> Pergunta 5"
   ]
  },
  {
   "cell_type": "code",
   "execution_count": 274,
   "id": "ef479c1d",
   "metadata": {
    "scrolled": true
   },
   "outputs": [
    {
     "name": "stdout",
     "output_type": "stream",
     "text": [
      "+-------------+---+\n",
      "|     region_D|avg|\n",
      "+-------------+---+\n",
      "|       ALASKA| 28|\n",
      "|MAINLAND-EAST| 37|\n",
      "|MAINLAND-WEST| 36|\n",
      "+-------------+---+\n",
      "\n"
     ]
    }
   ],
   "source": [
    "(df.where((F.col('dep_delay') > 0)| (F.col('arr_delay') > 0))\n",
    "    .groupBy(F.col('region_D'))\n",
    "    .agg(F.ceil(F.avg(F.col('dep_delay') + F.col('arr_delay')))\n",
    "        .alias('avg')).show())"
   ]
  },
  {
   "cell_type": "markdown",
   "id": "7fbf04bf",
   "metadata": {},
   "source": [
    "# <center> Pergunta 6\n",
    "    "
   ]
  },
  {
   "cell_type": "code",
   "execution_count": 277,
   "id": "d21b40d9",
   "metadata": {},
   "outputs": [
    {
     "name": "stdout",
     "output_type": "stream",
     "text": [
      "+----+-------+\n",
      "|Year|minutes|\n",
      "+----+-------+\n",
      "|2014| 166798|\n",
      "+----+-------+\n",
      "\n"
     ]
    }
   ],
   "source": [
    "(df.where((F.col('dep_delay') > 0) | (F.col('arr_delay') > 0))\n",
    "    .groupBy(F.year('dep_datetime').alias('Year'))\n",
    "    .agg(F.ceil(F.sum(F.col('dep_delay') + F.col('arr_delay')))\n",
    "        .alias('minutes')).show())"
   ]
  },
  {
   "cell_type": "markdown",
   "id": "633f3715",
   "metadata": {},
   "source": [
    "# <center> Pergunta 7"
   ]
  },
  {
   "cell_type": "code",
   "execution_count": 284,
   "id": "b7a95893",
   "metadata": {},
   "outputs": [
    {
     "name": "stdout",
     "output_type": "stream",
     "text": [
      "+----+-------------+-----------------------+\n",
      "| ano|     region_D|atraso_acumulado_regiao|\n",
      "+----+-------------+-----------------------+\n",
      "|2014|       ALASKA|                   4891|\n",
      "|2014|MAINLAND-EAST|                  16679|\n",
      "|2014|MAINLAND-WEST|                  38825|\n",
      "+----+-------------+-----------------------+\n",
      "\n"
     ]
    }
   ],
   "source": [
    "(df.select(F.year(\"dep_datetime\").alias('ano'),\"dep_delay\",\"region_D\" )\n",
    "    .groupBy(\"ano\", \"region_D\")\n",
    "    .agg(F.sum('dep_delay').alias('atraso_acumulado_regiao')).show()\n",
    ")"
   ]
  },
  {
   "cell_type": "markdown",
   "id": "15c14b92",
   "metadata": {},
   "source": [
    "# <center> Pergunta 8 "
   ]
  },
  {
   "cell_type": "code",
   "execution_count": 285,
   "id": "178ce577",
   "metadata": {},
   "outputs": [
    {
     "name": "stdout",
     "output_type": "stream",
     "text": [
      "+--------------------------------------+\n",
      "|CEIL(avg(air_time) AS tempo_voo_medio)|\n",
      "+--------------------------------------+\n",
      "|                                   153|\n",
      "+--------------------------------------+\n",
      "\n"
     ]
    }
   ],
   "source": [
    "(df.select(\"air_time\")   \n",
    "   .agg(F.ceil(F.avg(\"air_time\").alias(\"tempo_voo_medio\"))).show()\n",
    ")"
   ]
  },
  {
   "cell_type": "markdown",
   "id": "8bbd61bf",
   "metadata": {},
   "source": [
    "# <center> Pergunta 9"
   ]
  },
  {
   "cell_type": "code",
   "execution_count": 290,
   "id": "1572bd76",
   "metadata": {},
   "outputs": [
    {
     "name": "stdout",
     "output_type": "stream",
     "text": [
      "+-------------+--------------------------+\n",
      "|     region_D|tempo_voo_medio_por_regiao|\n",
      "+-------------+--------------------------+\n",
      "|       ALASKA|                       228|\n",
      "|MAINLAND-EAST|                       238|\n",
      "|MAINLAND-WEST|                       116|\n",
      "+-------------+--------------------------+\n",
      "\n"
     ]
    }
   ],
   "source": [
    "(df.select(\"air_time\", \"region_D\")\n",
    "   .groupBy(\"region_D\")\n",
    "   .agg(F.ceil(F.avg(\"air_time\")).alias(\"tempo_voo_medio_por_regiao\")).show()\n",
    ")"
   ]
  },
  {
   "cell_type": "markdown",
   "id": "9a921d5e",
   "metadata": {},
   "source": [
    "# <center> Pergunta 10"
   ]
  },
  {
   "cell_type": "code",
   "execution_count": 292,
   "id": "6f14bcda",
   "metadata": {},
   "outputs": [
    {
     "name": "stdout",
     "output_type": "stream",
     "text": [
      "+------+----+--------------------------+\n",
      "|origin|dest|tempo_voo_medio_por_regiao|\n",
      "+------+----+--------------------------+\n",
      "|   SEA| RNO|                        75|\n",
      "|   SEA| DTW|                       220|\n",
      "|   SEA| CLE|                       234|\n",
      "|   SEA| LAX|                       127|\n",
      "|   PDX| SEA|                        35|\n",
      "|   SEA| BLI|                        23|\n",
      "|   PDX| IAH|                       214|\n",
      "|   PDX| PHX|                       131|\n",
      "|   SEA| SLC|                        89|\n",
      "|   SEA| SBA|                       119|\n",
      "|   SEA| BWI|                       270|\n",
      "|   PDX| IAD|                       268|\n",
      "|   PDX| SFO|                        86|\n",
      "|   SEA| KOA|                       348|\n",
      "|   PDX| MCI|                       175|\n",
      "|   SEA| SJC|                       104|\n",
      "|   SEA| ABQ|                       143|\n",
      "|   SEA| SAT|                       209|\n",
      "|   PDX| ONT|                       112|\n",
      "|   SEA| LAS|                       119|\n",
      "+------+----+--------------------------+\n",
      "only showing top 20 rows\n",
      "\n"
     ]
    }
   ],
   "source": [
    "(df.select(\"air_time\", \"origin\",\"dest\")\n",
    "   .groupBy(\"origin\", \"dest\")\n",
    "   .agg(F.ceil(F.avg(\"air_time\")).alias(\"tempo_voo_medio_por_regiao\")).show()\n",
    ")"
   ]
  },
  {
   "cell_type": "markdown",
   "id": "d0f0ddd6",
   "metadata": {},
   "source": [
    "# <center> Pergunta 11"
   ]
  },
  {
   "cell_type": "code",
   "execution_count": 297,
   "id": "5b1de670",
   "metadata": {},
   "outputs": [
    {
     "name": "stdout",
     "output_type": "stream",
     "text": [
      "+------------------+-------------------+\n",
      "|year(dep_datetime)|Tempo_Acumulado_Ano|\n",
      "+------------------+-------------------+\n",
      "|              2014|            1528625|\n",
      "+------------------+-------------------+\n",
      "\n"
     ]
    }
   ],
   "source": [
    "(df.select('air_time','dep_datetime')\n",
    "    .groupBy(F.year('dep_datetime'))\n",
    "    .agg(F.ceil(F.sum('air_time')).alias('Tempo_Acumulado_Ano')).show()\n",
    ")"
   ]
  },
  {
   "cell_type": "markdown",
   "id": "19fc9fbc",
   "metadata": {},
   "source": [
    "# <center> Pergunta 12"
   ]
  },
  {
   "cell_type": "code",
   "execution_count": 304,
   "id": "fd4898b2",
   "metadata": {},
   "outputs": [
    {
     "name": "stdout",
     "output_type": "stream",
     "text": [
      "+-------------+--------------------------+\n",
      "|     region_D|tempo_voo_medio_por_regiao|\n",
      "+-------------+--------------------------+\n",
      "|       ALASKA|                    230602|\n",
      "|MAINLAND-EAST|                    508344|\n",
      "|MAINLAND-WEST|                    789679|\n",
      "+-------------+--------------------------+\n",
      "\n"
     ]
    }
   ],
   "source": [
    "(df.select(\"air_time\", \"region_D\")\n",
    "   .groupBy(\"region_D\")\n",
    "   .agg(F.sum(\"air_time\").alias(\"tempo_voo_medio_por_regiao\")).show()\n",
    ")"
   ]
  },
  {
   "cell_type": "markdown",
   "id": "eb1f2cd8",
   "metadata": {},
   "source": [
    "# <center> Pergunta 13"
   ]
  },
  {
   "cell_type": "code",
   "execution_count": 305,
   "id": "5f306ce6",
   "metadata": {},
   "outputs": [
    {
     "name": "stdout",
     "output_type": "stream",
     "text": [
      "+--------------------------------------+\n",
      "|CEIL(avg(distance) AS distancia_media)|\n",
      "+--------------------------------------+\n",
      "|                                  1209|\n",
      "+--------------------------------------+\n",
      "\n"
     ]
    }
   ],
   "source": [
    "(df.select(\"distance\")   \n",
    "   .agg(F.ceil(F.avg(\"distance\").alias(\"distancia_media\"))).show()\n",
    ")"
   ]
  },
  {
   "cell_type": "markdown",
   "id": "c386213c",
   "metadata": {},
   "source": [
    "# <center> Pergunta 14"
   ]
  },
  {
   "cell_type": "code",
   "execution_count": 308,
   "id": "81f571e0",
   "metadata": {},
   "outputs": [
    {
     "name": "stdout",
     "output_type": "stream",
     "text": [
      "+-------------+--------------------------+\n",
      "|     region_D|distancia_media_por_regiao|\n",
      "+-------------+--------------------------+\n",
      "|       ALASKA|                      1742|\n",
      "|MAINLAND-EAST|                      2043|\n",
      "|MAINLAND-WEST|                       868|\n",
      "+-------------+--------------------------+\n",
      "\n"
     ]
    }
   ],
   "source": [
    "(df.select(\"distance\", \"region_D\")\n",
    "   .groupBy(\"region_D\")\n",
    "   .agg(F.ceil(F.avg(\"distance\")).alias(\"distancia_media_por_regiao\")).show()\n",
    ")"
   ]
  },
  {
   "cell_type": "markdown",
   "id": "6fcf685e",
   "metadata": {},
   "source": [
    "# <center> Pergunta 15"
   ]
  },
  {
   "cell_type": "code",
   "execution_count": 314,
   "id": "9209f9a4",
   "metadata": {},
   "outputs": [
    {
     "name": "stdout",
     "output_type": "stream",
     "text": [
      "+------+----+------------------------+\n",
      "|origin|dest|tempo_voo_medio_por_rota|\n",
      "+------+----+------------------------+\n",
      "|   SEA| RNO|                     564|\n",
      "|   SEA| DTW|                    1927|\n",
      "|   SEA| CLE|                    2021|\n",
      "|   SEA| LAX|                     954|\n",
      "|   PDX| SEA|                     129|\n",
      "|   SEA| BLI|                      93|\n",
      "|   PDX| IAH|                    1825|\n",
      "|   PDX| PHX|                    1009|\n",
      "|   SEA| SLC|                     689|\n",
      "|   SEA| SBA|                     908|\n",
      "|   SEA| BWI|                    2335|\n",
      "|   PDX| IAD|                    2327|\n",
      "|   PDX| SFO|                     550|\n",
      "|   SEA| KOA|                    2688|\n",
      "|   PDX| MCI|                    1482|\n",
      "|   SEA| SJC|                     697|\n",
      "|   SEA| ABQ|                    1180|\n",
      "|   SEA| SAT|                    1774|\n",
      "|   PDX| ONT|                     838|\n",
      "|   SEA| LAS|                     867|\n",
      "+------+----+------------------------+\n",
      "only showing top 20 rows\n",
      "\n"
     ]
    }
   ],
   "source": [
    "(df.select(\"distance\", \"origin\",\"dest\")\n",
    "   .groupBy(\"origin\", \"dest\")\n",
    "   .agg(F.ceil(F.avg(\"distance\")).alias(\"distancia_voo_medio_por_rota\")).show()\n",
    ")"
   ]
  },
  {
   "cell_type": "markdown",
   "id": "f3fe5fb0",
   "metadata": {},
   "source": [
    "# <center> Pergunta 16"
   ]
  },
  {
   "cell_type": "code",
   "execution_count": 312,
   "id": "7556896c",
   "metadata": {},
   "outputs": [
    {
     "name": "stdout",
     "output_type": "stream",
     "text": [
      "+------------------+-------------------+\n",
      "|year(dep_datetime)|Tempo_Acumulado_Ano|\n",
      "+------------------+-------------------+\n",
      "|              2014|           12081516|\n",
      "+------------------+-------------------+\n",
      "\n"
     ]
    }
   ],
   "source": [
    "(df.select('distance','dep_datetime')\n",
    "    .groupBy(F.year('dep_datetime'))\n",
    "    .agg(F.ceil(F.sum('distance')).alias('distancia_Acumulado_Ano')).show()\n",
    ")"
   ]
  },
  {
   "cell_type": "markdown",
   "id": "68c5df0c",
   "metadata": {},
   "source": [
    "# <center> Pergunta 17"
   ]
  },
  {
   "cell_type": "code",
   "execution_count": 319,
   "id": "cbdcb0cb",
   "metadata": {},
   "outputs": [
    {
     "name": "stdout",
     "output_type": "stream",
     "text": [
      "+-------------+------------------------------+\n",
      "|     region_D|distancia_acumulada_por_regiao|\n",
      "+-------------+------------------------------+\n",
      "|       ALASKA|                       1762553|\n",
      "|MAINLAND-EAST|                       4378902|\n",
      "|MAINLAND-WEST|                       5940061|\n",
      "+-------------+------------------------------+\n",
      "\n"
     ]
    }
   ],
   "source": [
    "(df.select(\"distance\", \"region_D\")\n",
    "   .groupBy(\"region_D\")\n",
    "   .agg(F.ceil(F.sum(\"distance\")).alias(\"distancia_acumulada_por_regiao\")).show()\n",
    ")"
   ]
  },
  {
   "cell_type": "markdown",
   "id": "f5f70b05",
   "metadata": {},
   "source": [
    "# <center> Pergunta 18\n"
   ]
  },
  {
   "cell_type": "code",
   "execution_count": 555,
   "id": "a0ce34ed",
   "metadata": {},
   "outputs": [
    {
     "name": "stdout",
     "output_type": "stream",
     "text": [
      "+------+----+-----------------------------+\n",
      "|origin|dest|passageiro_voo_medio_por_rota|\n",
      "+------+----+-----------------------------+\n",
      "|   SEA| RNO|                          142|\n",
      "|   SEA| DTW|                          213|\n",
      "|   SEA| CLE|                          182|\n",
      "|   SEA| LAX|                          155|\n",
      "|   PDX| SEA|                           65|\n",
      "|   SEA| BLI|                          164|\n",
      "|   PDX| IAH|                          183|\n",
      "|   PDX| PHX|                          196|\n",
      "|   SEA| SLC|                          166|\n",
      "|   SEA| SBA|                           80|\n",
      "|   SEA| BWI|                          152|\n",
      "|   PDX| IAD|                          188|\n",
      "|   PDX| SFO|                          139|\n",
      "|   SEA| KOA|                          171|\n",
      "|   PDX| MCI|                          147|\n",
      "|   SEA| SJC|                          137|\n",
      "|   SEA| ABQ|                          145|\n",
      "|   SEA| SAT|                          158|\n",
      "|   PDX| ONT|                           80|\n",
      "|   SEA| LAS|                          147|\n",
      "+------+----+-----------------------------+\n",
      "only showing top 20 rows\n",
      "\n"
     ]
    }
   ],
   "source": [
    "(df.select(\"seats\", \"origin\",\"dest\")\n",
    "    .groupBy(\"origin\", \"dest\")\n",
    "    .agg(F.ceil(F.avg(\"seats\")).alias(\"passageiro_voo_medio_por_rota\")).show()\n",
    ")"
   ]
  },
  {
   "cell_type": "markdown",
   "id": "d4d9e3b6",
   "metadata": {},
   "source": [
    "# <center> Pergunta 19\n"
   ]
  },
  {
   "cell_type": "code",
   "execution_count": 354,
   "id": "d38e3af3",
   "metadata": {},
   "outputs": [
    {
     "name": "stdout",
     "output_type": "stream",
     "text": [
      "+------------------+------------------------+\n",
      "|year(dep_datetime)|passageiro_acumulado_Ano|\n",
      "+------------------+------------------------+\n",
      "|              2014|                 1509544|\n",
      "+------------------+------------------------+\n",
      "\n"
     ]
    }
   ],
   "source": [
    "(df.select('seats','dep_datetime')\n",
    "    .groupBy(F.year('dep_datetime'))\n",
    "    .agg(F.ceil(F.sum('seats')).alias('passageiro_acumulado_Ano')).show()\n",
    ")"
   ]
  },
  {
   "cell_type": "markdown",
   "id": "bffb0eec",
   "metadata": {},
   "source": [
    "# <center> Pergunta 20\n"
   ]
  },
  {
   "cell_type": "code",
   "execution_count": 356,
   "id": "38823f4f",
   "metadata": {
    "scrolled": true
   },
   "outputs": [
    {
     "name": "stdout",
     "output_type": "stream",
     "text": [
      "+----+-----+\n",
      "|dest|count|\n",
      "+----+-----+\n",
      "| SFO|  787|\n",
      "+----+-----+\n",
      "only showing top 1 row\n",
      "\n"
     ]
    }
   ],
   "source": [
    "df.groupby('dest').count().orderBy('count',ascending=False).show(1)"
   ]
  },
  {
   "cell_type": "markdown",
   "id": "b54c6eda",
   "metadata": {},
   "source": [
    "# <center> Pergunta 21"
   ]
  },
  {
   "cell_type": "code",
   "execution_count": 426,
   "id": "62eb7a5e",
   "metadata": {},
   "outputs": [
    {
     "name": "stdout",
     "output_type": "stream",
     "text": [
      "+----+----------+\n",
      "|dest|sum(seats)|\n",
      "+----+----------+\n",
      "| SFO|    119635|\n",
      "+----+----------+\n",
      "only showing top 1 row\n",
      "\n"
     ]
    }
   ],
   "source": [
    "df.groupBy('dest').agg(F.sum('seats')).orderBy(F.sum('seats'),ascending=False).show(1)"
   ]
  },
  {
   "cell_type": "markdown",
   "id": "9dfa2a99",
   "metadata": {},
   "source": [
    "# <center> Pergunta 22\n"
   ]
  },
  {
   "cell_type": "code",
   "execution_count": 537,
   "id": "ea3a0dca",
   "metadata": {},
   "outputs": [
    {
     "name": "stdout",
     "output_type": "stream",
     "text": [
      "+------+----+--------+\n",
      "|origin|dest|distance|\n",
      "+------+----+--------+\n",
      "|   PDX| LIH|    2631|\n",
      "+------+----+--------+\n",
      "only showing top 1 row\n",
      "\n"
     ]
    }
   ],
   "source": [
    "df.select('origin','dest','distance').where(F.col('origin') == 'PDX').orderBy('distance',ascending=False).show(1)"
   ]
  },
  {
   "cell_type": "markdown",
   "id": "f14c95da",
   "metadata": {},
   "source": [
    "# <center> Pergunta 23\n"
   ]
  },
  {
   "cell_type": "code",
   "execution_count": 518,
   "id": "1d62ae58",
   "metadata": {},
   "outputs": [
    {
     "name": "stdout",
     "output_type": "stream",
     "text": [
      "+-------------------+----+-----------+\n",
      "|month(dep_datetime)|dest|count(dest)|\n",
      "+-------------------+----+-----------+\n",
      "|                  5| LAX|         77|\n",
      "+-------------------+----+-----------+\n",
      "only showing top 1 row\n",
      "\n"
     ]
    }
   ],
   "source": [
    "(df.select('dest','dep_datetime')\n",
    "    .groupBy(F.month('dep_datetime'),'dest')\n",
    "    .agg(F.count('dest')).orderBy(F.count('dest'),ascending=False).show(1))"
   ]
  },
  {
   "cell_type": "markdown",
   "id": "07cc33d5",
   "metadata": {},
   "source": [
    "# <center> Pergunta 24\n"
   ]
  },
  {
   "cell_type": "code",
   "execution_count": 445,
   "id": "51165cb0",
   "metadata": {},
   "outputs": [
    {
     "name": "stdout",
     "output_type": "stream",
     "text": [
      "+-------+-----+\n",
      "|  model|count|\n",
      "+-------+-----+\n",
      "|737-890| 1463|\n",
      "+-------+-----+\n",
      "only showing top 1 row\n",
      "\n"
     ]
    }
   ],
   "source": [
    "df.groupBy('model').count().orderBy('count',ascending=False).show(1)"
   ]
  },
  {
   "cell_type": "markdown",
   "id": "a01971e4",
   "metadata": {},
   "source": [
    "# <center> Pergunta 25"
   ]
  },
  {
   "cell_type": "code",
   "execution_count": 556,
   "id": "7434918c",
   "metadata": {
    "collapsed": true
   },
   "outputs": [
    {
     "name": "stdout",
     "output_type": "stream",
     "text": [
      "+---------+----+-----+\n",
      "|    model|dest|count|\n",
      "+---------+----+-----+\n",
      "|  737-7H4| OAK|  141|\n",
      "|  737-890| ANC|  138|\n",
      "|  737-790| SNA|  122|\n",
      "|  737-7H4| SMF|  114|\n",
      "|  737-890| LAX|  110|\n",
      "|  737-890| LAS|  108|\n",
      "|  757-232| SLC|  104|\n",
      "|  737-890| SAN|  102|\n",
      "| A320-232| LGB|  102|\n",
      "| A320-214| DEN|  102|\n",
      "|  737-7H4| LAS|   97|\n",
      "|  737-7H4| DEN|   93|\n",
      "| A320-232| PHX|   91|\n",
      "|  737-7H4| SJC|   89|\n",
      "|  737-490| SFO|   87|\n",
      "|EMB-120ER| PDX|   87|\n",
      "| A319-131| SFO|   86|\n",
      "| A320-232| SFO|   85|\n",
      "|  737-7H4| PHX|   80|\n",
      "|737-932ER| ATL|   80|\n",
      "+---------+----+-----+\n",
      "only showing top 20 rows\n",
      "\n"
     ]
    }
   ],
   "source": [
    "(df.where(df.model.isNotNull()).select('dest','model')\n",
    "    .groupBy('model','dest').count().orderBy('count',ascending=False).show())"
   ]
  },
  {
   "cell_type": "markdown",
   "id": "b0d4beb2",
   "metadata": {},
   "source": [
    "# <center> Pergunta 26\n",
    "\n"
   ]
  },
  {
   "cell_type": "code",
   "execution_count": 472,
   "id": "d0b6e80c",
   "metadata": {},
   "outputs": [
    {
     "name": "stdout",
     "output_type": "stream",
     "text": [
      "+-------------+-----------------------+\n",
      "|haul_duration|media_motores_categoria|\n",
      "+-------------+-----------------------+\n",
      "|    LONG-HAUL|                      2|\n",
      "|  MEDIUM-HAUL|                      2|\n",
      "|   SHORT-HAUL|                      2|\n",
      "+-------------+-----------------------+\n",
      "\n"
     ]
    }
   ],
   "source": [
    "(df.select(\"engines\", \"haul_duration\")\n",
    "    .groupBy(\"haul_duration\")\n",
    "    .agg(F.ceil(F.avg(\"engines\")).alias(\"media_motores_categoria\")).show())"
   ]
  },
  {
   "cell_type": "markdown",
   "id": "1446e3dc",
   "metadata": {},
   "source": [
    "# <center> Pergunta 27"
   ]
  },
  {
   "cell_type": "code",
   "execution_count": 478,
   "id": "83f08d0b",
   "metadata": {},
   "outputs": [
    {
     "name": "stdout",
     "output_type": "stream",
     "text": [
      "+----------+-----+\n",
      "|dep_season|count|\n",
      "+----------+-----+\n",
      "|    SUMMER| 2918|\n",
      "+----------+-----+\n",
      "only showing top 1 row\n",
      "\n"
     ]
    }
   ],
   "source": [
    "(df.groupBy('dep_season').count().orderBy('count',ascending=False).show(1))"
   ]
  },
  {
   "cell_type": "markdown",
   "id": "4df8349d",
   "metadata": {},
   "source": [
    "# <center> Pergunta 28"
   ]
  },
  {
   "cell_type": "code",
   "execution_count": 557,
   "id": "6426781f",
   "metadata": {},
   "outputs": [
    {
     "name": "stdout",
     "output_type": "stream",
     "text": [
      "+----------+----+-----------------+\n",
      "|dep_season|dest|count(dep_season)|\n",
      "+----------+----+-----------------+\n",
      "|    SUMMER| SFO|              217|\n",
      "|    SPRING| SFO|              199|\n",
      "|      FALL| SFO|              198|\n",
      "|    SPRING| LAX|              176|\n",
      "|    WINTER| SFO|              173|\n",
      "|    SUMMER| DEN|              172|\n",
      "|    SUMMER| LAX|              163|\n",
      "|    SPRING| DEN|              151|\n",
      "|    SPRING| PHX|              148|\n",
      "|      FALL| DEN|              145|\n",
      "|    SPRING| LAS|              145|\n",
      "|    SUMMER| ANC|              145|\n",
      "|    WINTER| LAX|              139|\n",
      "|      FALL| LAX|              137|\n",
      "|    SUMMER| LAS|              136|\n",
      "|    SUMMER| PHX|              134|\n",
      "|    WINTER| PHX|              131|\n",
      "|      FALL| LAS|              130|\n",
      "|    SUMMER| ORD|              129|\n",
      "|    SUMMER| DFW|              122|\n",
      "+----------+----+-----------------+\n",
      "only showing top 20 rows\n",
      "\n"
     ]
    }
   ],
   "source": [
    "(df.select('dep_season','dest').groupBy('dep_season','dest')\n",
    "    .agg(F.count('dep_season')).orderBy(F.count('dep_season'),ascending=False).show())"
   ]
  },
  {
   "cell_type": "markdown",
   "id": "53876d56",
   "metadata": {},
   "source": [
    "# <center> Pergunta 29\n"
   ]
  },
  {
   "cell_type": "code",
   "execution_count": 512,
   "id": "20979aae",
   "metadata": {},
   "outputs": [
    {
     "name": "stdout",
     "output_type": "stream",
     "text": [
      "+------------------+-----+\n",
      "|dep_delay_category|count|\n",
      "+------------------+-----+\n",
      "|             MINOR| 3065|\n",
      "+------------------+-----+\n",
      "only showing top 1 row\n",
      "\n"
     ]
    }
   ],
   "source": [
    "(df.where((F.col('dep_delay_category') != 'ANTECIPATED') & (F.col('dep_delay_category') != 'INTIME'))\n",
    "    .groupBy('dep_delay_category').count().orderBy('count',ascending=False).show(1))"
   ]
  },
  {
   "cell_type": "markdown",
   "id": "9e260f2a",
   "metadata": {},
   "source": [
    "# <center> Pergunta 30\n"
   ]
  },
  {
   "cell_type": "code",
   "execution_count": 515,
   "id": "78860960",
   "metadata": {},
   "outputs": [
    {
     "name": "stdout",
     "output_type": "stream",
     "text": [
      "+------------------+------+----+-----+\n",
      "|dep_delay_category|origin|dest|count|\n",
      "+------------------+------+----+-----+\n",
      "|             MINOR|   SEA| SFO|  159|\n",
      "+------------------+------+----+-----+\n",
      "only showing top 1 row\n",
      "\n"
     ]
    }
   ],
   "source": [
    "(df.where((F.col('dep_delay_category') != 'ANTECIPATED') & (F.col('dep_delay_category') != 'INTIME'))\n",
    "    .groupBy('dep_delay_category','origin','dest').count().orderBy('count',ascending=False).show(1))"
   ]
  }
 ],
 "metadata": {
  "kernelspec": {
   "display_name": "Python 3 (ipykernel)",
   "language": "python",
   "name": "python3"
  },
  "language_info": {
   "codemirror_mode": {
    "name": "ipython",
    "version": 3
   },
   "file_extension": ".py",
   "mimetype": "text/x-python",
   "name": "python",
   "nbconvert_exporter": "python",
   "pygments_lexer": "ipython3",
   "version": "3.9.7"
  }
 },
 "nbformat": 4,
 "nbformat_minor": 5
}
